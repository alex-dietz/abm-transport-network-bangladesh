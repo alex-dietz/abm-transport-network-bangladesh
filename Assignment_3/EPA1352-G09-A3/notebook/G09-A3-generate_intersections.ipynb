{
 "cells": [
  {
   "cell_type": "markdown",
   "metadata": {},
   "source": [
    "### Prepare dataset with N1, N2, side roads and their intersections"
   ]
  },
  {
   "cell_type": "markdown",
   "metadata": {},
   "source": [
    "#### Imports"
   ]
  },
  {
   "cell_type": "code",
   "execution_count": 84,
   "metadata": {},
   "outputs": [],
   "source": [
    "import pandas as pd\n",
    "import numpy as np\n",
    "import matplotlib.pyplot as plt\n",
    "from tqdm.notebook import tqdm\n",
    "import geopy.distance"
   ]
  },
  {
   "cell_type": "markdown",
   "metadata": {},
   "source": [
    "#### Load raw dataset"
   ]
  },
  {
   "cell_type": "code",
   "execution_count": 85,
   "metadata": {},
   "outputs": [],
   "source": [
    "bridges = pd.read_excel('../data/raw/BMMS_overview.xlsx')    "
   ]
  },
  {
   "cell_type": "markdown",
   "metadata": {},
   "source": [
    "#### Create dataframes for each N-road"
   ]
  },
  {
   "cell_type": "code",
   "execution_count": 86,
   "metadata": {},
   "outputs": [],
   "source": [
    "#Keep only N-roads\n",
    "bridges = bridges[(bridges['road'].str[0] == 'N')]"
   ]
  },
  {
   "cell_type": "code",
   "execution_count": 87,
   "metadata": {},
   "outputs": [],
   "source": [
    "#Find all names of N-roads\n",
    "N_roads = {}\n",
    "for N_road in list(bridges.road.unique()):\n",
    "    N_roads[N_road] = bridges[(bridges['road'] == N_road)]"
   ]
  },
  {
   "cell_type": "code",
   "execution_count": 88,
   "metadata": {},
   "outputs": [
    {
     "data": {
      "text/html": [
       "<div>\n",
       "<style scoped>\n",
       "    .dataframe tbody tr th:only-of-type {\n",
       "        vertical-align: middle;\n",
       "    }\n",
       "\n",
       "    .dataframe tbody tr th {\n",
       "        vertical-align: top;\n",
       "    }\n",
       "\n",
       "    .dataframe thead th {\n",
       "        text-align: right;\n",
       "    }\n",
       "</style>\n",
       "<table border=\"1\" class=\"dataframe\">\n",
       "  <thead>\n",
       "    <tr style=\"text-align: right;\">\n",
       "      <th></th>\n",
       "      <th>road</th>\n",
       "      <th>km</th>\n",
       "      <th>type</th>\n",
       "      <th>LRPName</th>\n",
       "      <th>name</th>\n",
       "      <th>length</th>\n",
       "      <th>condition</th>\n",
       "      <th>structureNr</th>\n",
       "      <th>roadName</th>\n",
       "      <th>chainage</th>\n",
       "      <th>width</th>\n",
       "      <th>constructionYear</th>\n",
       "      <th>spans</th>\n",
       "      <th>zone</th>\n",
       "      <th>circle</th>\n",
       "      <th>division</th>\n",
       "      <th>sub-division</th>\n",
       "      <th>lat</th>\n",
       "      <th>lon</th>\n",
       "      <th>EstimatedLoc</th>\n",
       "    </tr>\n",
       "  </thead>\n",
       "  <tbody>\n",
       "    <tr>\n",
       "      <th>3603</th>\n",
       "      <td>N514</td>\n",
       "      <td>5.645</td>\n",
       "      <td>Box Culvert</td>\n",
       "      <td>LRP005a</td>\n",
       "      <td>.</td>\n",
       "      <td>13.25</td>\n",
       "      <td>A</td>\n",
       "      <td>110403</td>\n",
       "      <td>Bogra (Banani)-Matidali Road</td>\n",
       "      <td>5.645</td>\n",
       "      <td>8.45</td>\n",
       "      <td>1992.0</td>\n",
       "      <td>2.0</td>\n",
       "      <td>Rangpur</td>\n",
       "      <td>Bogra</td>\n",
       "      <td>Bogra</td>\n",
       "      <td>Bogra</td>\n",
       "      <td>24.864778</td>\n",
       "      <td>89.372249</td>\n",
       "      <td>interpolate</td>\n",
       "    </tr>\n",
       "    <tr>\n",
       "      <th>3604</th>\n",
       "      <td>N514</td>\n",
       "      <td>7.938</td>\n",
       "      <td>Arch Masonry</td>\n",
       "      <td>LRP007a</td>\n",
       "      <td>.</td>\n",
       "      <td>2.20</td>\n",
       "      <td>A</td>\n",
       "      <td>110408</td>\n",
       "      <td>Bogra (Banani)-Matidali Road</td>\n",
       "      <td>7.938</td>\n",
       "      <td>7.45</td>\n",
       "      <td>1994.0</td>\n",
       "      <td>1.0</td>\n",
       "      <td>Rangpur</td>\n",
       "      <td>Bogra</td>\n",
       "      <td>Bogra</td>\n",
       "      <td>Bogra</td>\n",
       "      <td>24.883399</td>\n",
       "      <td>89.362841</td>\n",
       "      <td>interpolate</td>\n",
       "    </tr>\n",
       "    <tr>\n",
       "      <th>3605</th>\n",
       "      <td>N514</td>\n",
       "      <td>8.158</td>\n",
       "      <td>Box Culvert</td>\n",
       "      <td>LRP008a</td>\n",
       "      <td>.</td>\n",
       "      <td>3.60</td>\n",
       "      <td>A</td>\n",
       "      <td>110410</td>\n",
       "      <td>Bogra (Banani)-Matidali Road</td>\n",
       "      <td>8.158</td>\n",
       "      <td>12.00</td>\n",
       "      <td>1995.0</td>\n",
       "      <td>1.0</td>\n",
       "      <td>Rangpur</td>\n",
       "      <td>Bogra</td>\n",
       "      <td>Bogra</td>\n",
       "      <td>Bogra</td>\n",
       "      <td>24.884793</td>\n",
       "      <td>89.361876</td>\n",
       "      <td>interpolate</td>\n",
       "    </tr>\n",
       "    <tr>\n",
       "      <th>10957</th>\n",
       "      <td>N514</td>\n",
       "      <td>2.967</td>\n",
       "      <td>Slab Culvert</td>\n",
       "      <td>LRP002a</td>\n",
       "      <td>.</td>\n",
       "      <td>1.45</td>\n",
       "      <td>B</td>\n",
       "      <td>110401</td>\n",
       "      <td>Bogra (Banani)-Matidali Road</td>\n",
       "      <td>2.967</td>\n",
       "      <td>9.50</td>\n",
       "      <td>1991.0</td>\n",
       "      <td>1.0</td>\n",
       "      <td>Rangpur</td>\n",
       "      <td>Bogra</td>\n",
       "      <td>Bogra</td>\n",
       "      <td>Sherpur (Bogra)</td>\n",
       "      <td>24.841151</td>\n",
       "      <td>89.374055</td>\n",
       "      <td>interpolate</td>\n",
       "    </tr>\n",
       "  </tbody>\n",
       "</table>\n",
       "</div>"
      ],
      "text/plain": [
       "       road     km          type  LRPName name  length condition  structureNr  \\\n",
       "3603   N514  5.645   Box Culvert  LRP005a    .   13.25         A       110403   \n",
       "3604   N514  7.938  Arch Masonry  LRP007a    .    2.20         A       110408   \n",
       "3605   N514  8.158   Box Culvert  LRP008a    .    3.60         A       110410   \n",
       "10957  N514  2.967  Slab Culvert  LRP002a    .    1.45         B       110401   \n",
       "\n",
       "                           roadName  chainage  width  constructionYear  spans  \\\n",
       "3603   Bogra (Banani)-Matidali Road     5.645   8.45            1992.0    2.0   \n",
       "3604   Bogra (Banani)-Matidali Road     7.938   7.45            1994.0    1.0   \n",
       "3605   Bogra (Banani)-Matidali Road     8.158  12.00            1995.0    1.0   \n",
       "10957  Bogra (Banani)-Matidali Road     2.967   9.50            1991.0    1.0   \n",
       "\n",
       "          zone circle division     sub-division        lat        lon  \\\n",
       "3603   Rangpur  Bogra    Bogra            Bogra  24.864778  89.372249   \n",
       "3604   Rangpur  Bogra    Bogra            Bogra  24.883399  89.362841   \n",
       "3605   Rangpur  Bogra    Bogra            Bogra  24.884793  89.361876   \n",
       "10957  Rangpur  Bogra    Bogra  Sherpur (Bogra)  24.841151  89.374055   \n",
       "\n",
       "      EstimatedLoc  \n",
       "3603   interpolate  \n",
       "3604   interpolate  \n",
       "3605   interpolate  \n",
       "10957  interpolate  "
      ]
     },
     "execution_count": 88,
     "metadata": {},
     "output_type": "execute_result"
    }
   ],
   "source": [
    "#Example\n",
    "N_roads['N514']"
   ]
  },
  {
   "cell_type": "markdown",
   "metadata": {},
   "source": [
    "#### Define function to prepare a specific road"
   ]
  },
  {
   "cell_type": "code",
   "execution_count": 89,
   "metadata": {},
   "outputs": [],
   "source": [
    "def prepare_road(road_name, bridges):\n",
    "    #filter out bridges with same LRPName keeping the one with worst condition\n",
    "    bridges = bridges.sort_values('condition', ascending=False).drop_duplicates('LRPName')\n",
    "    selected_columns = ['road', 'LRPName', 'type', 'condition', 'name', 'lat','lon', 'length', 'chainage']\n",
    "    bridges = bridges[selected_columns]\n",
    "    #set type of all LRPs to bridge\n",
    "    bridges['type'] = 'bridge'\n",
    "    #sort bridges on chainage\n",
    "    bridges = bridges.sort_values('chainage')\n",
    "    #if chainage of bridges is the same: put them together with average length\n",
    "    bridges = bridges.groupby('chainage').agg({'road':'first', 'LRPName':'first', \n",
    "                                                     'type':'first', 'condition':'first', \n",
    "                                                     'name':'first', 'lat':'first', \n",
    "                                                     'lon':'first', 'length':'mean'}).reset_index()\n",
    "    #cut last character of LRPName\n",
    "    bridges['LRPName'] = bridges['LRPName'].str[:-1]\n",
    "    #if LRPName is the same: put them together with average length and worst condition\n",
    "    bridges = bridges.groupby('LRPName').agg({'road':'first', 'chainage':'first', \n",
    "                                                    'type':'first', 'condition':'first', \n",
    "                                                    'name':'first', 'lat':'first', \n",
    "                                                    'lon':'first', 'length':'mean'}).reset_index()\n",
    "    #sort bridges on chainage\n",
    "    bridges = bridges.sort_values('chainage')\n",
    "    bridge_dict = bridges.to_dict('records')\n",
    "    for i,bridge in enumerate(bridge_dict):\n",
    "        #add source at start of road\n",
    "        if i == 0:\n",
    "            bridge_dict.insert(0, {'road':road_name, 'type':'sourcesink', \n",
    "                                   'length':1, 'condition':'NaN', \n",
    "                                   'LRPName':bridge['LRPName'],'name':'SoSi_' + road_name,\n",
    "                                   'chainage':0,'lat':bridge['lat'],'lon':bridge['lon']})\n",
    "            bridge_dict.insert(1, {'road':road_name, 'type':'link', \n",
    "                                   'length':bridge_dict[i+1]['chainage']*1000, \n",
    "                                   'condition':'NaN', 'LRPName':bridge['LRPName']+'-road',\n",
    "                                   'name':'link_' + bridge['LRPName'],'chainage':0,\n",
    "                                   'lat':bridge['lat'],'lon':bridge['lon']})\n",
    "        #add links in between bridges\n",
    "        elif i%2 == 0 and i < len(bridge_dict)-1:\n",
    "            #add link between bridges\n",
    "            road_length = (bridge_dict[i+1]['chainage']-bridge['chainage'])*1000-bridge['length'] if (bridge_dict[i+1]['chainage']-bridge['chainage'])*1000-bridge['length'] > 0 else 0\n",
    "            bridge_dict.insert(i+1, {'road':road_name, 'type':'link', \n",
    "                                     'length':road_length, 'condition':'NaN', \n",
    "                                     'LRPName':bridge['LRPName']+'-road','name':'link_' + bridge['LRPName'],\n",
    "                                     'chainage':bridge['chainage']+bridge['length']/1000,\n",
    "                                     'lat':bridge['lat'],'lon':bridge['lon']})\n",
    "        #add sink at end of road\n",
    "        elif i == len(bridge_dict)-1 and bridge['type']!='sourcesink': \n",
    "            bridge_dict.append({'road':road_name, 'type':'link', \n",
    "                                'length':bridge['length'],'condition':'NaN',\n",
    "                                'LRPName':bridge['LRPName']+'-road','name':'link_' + bridge['LRPName'],\n",
    "                                'chainage':bridge['chainage']+bridge['length']/1000,\n",
    "                                'lat':bridge['lat'],'lon':bridge['lon']}) \n",
    "            bridge_dict.append({'road':road_name, 'type':'sourcesink', \n",
    "                                'length':1, 'condition':'NaN', \n",
    "                                'LRPName':'LRP235','name':'SoSi_' + road_name,\n",
    "                                'chainage':bridge['chainage']+bridge['length']/1000,\n",
    "                                'lat':bridge['lat'],'lon':bridge['lon']}) \n",
    "\n",
    "    #dict to dataframe\n",
    "    bridges_cleaned = pd.DataFrame(bridge_dict)\n",
    "    \n",
    "    #rename type to model_type\n",
    "    bridges_cleaned = bridges_cleaned.rename(columns={'type': 'model_type'})\n",
    "    #Add LRPName to name if name is only .\n",
    "    bridges_cleaned['name'] = np.where(bridges_cleaned['name'] == '.', bridges_cleaned['LRPName'], bridges_cleaned['name'])\n",
    "    #insert column id with index\n",
    "    bridges_cleaned.insert(1, 'id', bridges_cleaned.index)\n",
    "    #Change column order\n",
    "    bridges_cleaned = bridges_cleaned[['road', 'id', 'model_type', 'condition', 'name', 'lat', 'lon', 'length', 'chainage']]\n",
    "    return bridges_cleaned"
   ]
  },
  {
   "cell_type": "markdown",
   "metadata": {},
   "source": [
    "#### Prepare N-roads"
   ]
  },
  {
   "cell_type": "code",
   "execution_count": 90,
   "metadata": {},
   "outputs": [],
   "source": [
    "#Empty dictionary for cleaned roads\n",
    "N_roads_cleaned = {} "
   ]
  },
  {
   "cell_type": "code",
   "execution_count": 91,
   "metadata": {},
   "outputs": [
    {
     "data": {
      "application/json": {
       "ascii": false,
       "bar_format": null,
       "colour": null,
       "elapsed": 0.028296709060668945,
       "initial": 0,
       "n": 0,
       "ncols": null,
       "nrows": null,
       "postfix": null,
       "prefix": "",
       "rate": null,
       "total": 56,
       "unit": "it",
       "unit_divisor": 1000,
       "unit_scale": false
      },
      "application/vnd.jupyter.widget-view+json": {
       "model_id": "ded73c6bd4844982b58d088c3e836e46",
       "version_major": 2,
       "version_minor": 0
      },
      "text/plain": [
       "  0%|          | 0/56 [00:00<?, ?it/s]"
      ]
     },
     "metadata": {},
     "output_type": "display_data"
    }
   ],
   "source": [
    "#Loop over all N roads, clean the road, and add it to dictionary\n",
    "for index, value in tqdm(N_roads.items()):\n",
    "    N_roads_cleaned[index] = prepare_road(index, value)"
   ]
  },
  {
   "cell_type": "code",
   "execution_count": 92,
   "metadata": {},
   "outputs": [
    {
     "data": {
      "text/html": [
       "<div>\n",
       "<style scoped>\n",
       "    .dataframe tbody tr th:only-of-type {\n",
       "        vertical-align: middle;\n",
       "    }\n",
       "\n",
       "    .dataframe tbody tr th {\n",
       "        vertical-align: top;\n",
       "    }\n",
       "\n",
       "    .dataframe thead th {\n",
       "        text-align: right;\n",
       "    }\n",
       "</style>\n",
       "<table border=\"1\" class=\"dataframe\">\n",
       "  <thead>\n",
       "    <tr style=\"text-align: right;\">\n",
       "      <th></th>\n",
       "      <th>road</th>\n",
       "      <th>id</th>\n",
       "      <th>model_type</th>\n",
       "      <th>condition</th>\n",
       "      <th>name</th>\n",
       "      <th>lat</th>\n",
       "      <th>lon</th>\n",
       "      <th>length</th>\n",
       "      <th>chainage</th>\n",
       "    </tr>\n",
       "  </thead>\n",
       "  <tbody>\n",
       "    <tr>\n",
       "      <th>0</th>\n",
       "      <td>N514</td>\n",
       "      <td>0</td>\n",
       "      <td>sourcesink</td>\n",
       "      <td>NaN</td>\n",
       "      <td>SoSi_N514</td>\n",
       "      <td>24.841151</td>\n",
       "      <td>89.374055</td>\n",
       "      <td>1.00</td>\n",
       "      <td>0.00000</td>\n",
       "    </tr>\n",
       "    <tr>\n",
       "      <th>1</th>\n",
       "      <td>N514</td>\n",
       "      <td>1</td>\n",
       "      <td>link</td>\n",
       "      <td>NaN</td>\n",
       "      <td>link_LRP002</td>\n",
       "      <td>24.841151</td>\n",
       "      <td>89.374055</td>\n",
       "      <td>2967.00</td>\n",
       "      <td>0.00000</td>\n",
       "    </tr>\n",
       "    <tr>\n",
       "      <th>2</th>\n",
       "      <td>N514</td>\n",
       "      <td>2</td>\n",
       "      <td>bridge</td>\n",
       "      <td>B</td>\n",
       "      <td>LRP002</td>\n",
       "      <td>24.841151</td>\n",
       "      <td>89.374055</td>\n",
       "      <td>1.45</td>\n",
       "      <td>2.96700</td>\n",
       "    </tr>\n",
       "    <tr>\n",
       "      <th>3</th>\n",
       "      <td>N514</td>\n",
       "      <td>3</td>\n",
       "      <td>link</td>\n",
       "      <td>NaN</td>\n",
       "      <td>link_LRP002</td>\n",
       "      <td>24.841151</td>\n",
       "      <td>89.374055</td>\n",
       "      <td>2676.55</td>\n",
       "      <td>2.96845</td>\n",
       "    </tr>\n",
       "    <tr>\n",
       "      <th>4</th>\n",
       "      <td>N514</td>\n",
       "      <td>4</td>\n",
       "      <td>bridge</td>\n",
       "      <td>A</td>\n",
       "      <td>LRP005</td>\n",
       "      <td>24.864778</td>\n",
       "      <td>89.372249</td>\n",
       "      <td>13.25</td>\n",
       "      <td>5.64500</td>\n",
       "    </tr>\n",
       "    <tr>\n",
       "      <th>5</th>\n",
       "      <td>N514</td>\n",
       "      <td>5</td>\n",
       "      <td>link</td>\n",
       "      <td>NaN</td>\n",
       "      <td>link_LRP005</td>\n",
       "      <td>24.864778</td>\n",
       "      <td>89.372249</td>\n",
       "      <td>2279.75</td>\n",
       "      <td>5.65825</td>\n",
       "    </tr>\n",
       "    <tr>\n",
       "      <th>6</th>\n",
       "      <td>N514</td>\n",
       "      <td>6</td>\n",
       "      <td>bridge</td>\n",
       "      <td>A</td>\n",
       "      <td>LRP007</td>\n",
       "      <td>24.883399</td>\n",
       "      <td>89.362841</td>\n",
       "      <td>2.20</td>\n",
       "      <td>7.93800</td>\n",
       "    </tr>\n",
       "    <tr>\n",
       "      <th>7</th>\n",
       "      <td>N514</td>\n",
       "      <td>7</td>\n",
       "      <td>link</td>\n",
       "      <td>NaN</td>\n",
       "      <td>link_LRP007</td>\n",
       "      <td>24.883399</td>\n",
       "      <td>89.362841</td>\n",
       "      <td>217.80</td>\n",
       "      <td>7.94020</td>\n",
       "    </tr>\n",
       "    <tr>\n",
       "      <th>8</th>\n",
       "      <td>N514</td>\n",
       "      <td>8</td>\n",
       "      <td>bridge</td>\n",
       "      <td>A</td>\n",
       "      <td>LRP008</td>\n",
       "      <td>24.884793</td>\n",
       "      <td>89.361876</td>\n",
       "      <td>3.60</td>\n",
       "      <td>8.15800</td>\n",
       "    </tr>\n",
       "    <tr>\n",
       "      <th>9</th>\n",
       "      <td>N514</td>\n",
       "      <td>9</td>\n",
       "      <td>link</td>\n",
       "      <td>NaN</td>\n",
       "      <td>link_LRP008</td>\n",
       "      <td>24.884793</td>\n",
       "      <td>89.361876</td>\n",
       "      <td>3.60</td>\n",
       "      <td>8.16160</td>\n",
       "    </tr>\n",
       "    <tr>\n",
       "      <th>10</th>\n",
       "      <td>N514</td>\n",
       "      <td>10</td>\n",
       "      <td>sourcesink</td>\n",
       "      <td>NaN</td>\n",
       "      <td>SoSi_N514</td>\n",
       "      <td>24.884793</td>\n",
       "      <td>89.361876</td>\n",
       "      <td>1.00</td>\n",
       "      <td>8.16160</td>\n",
       "    </tr>\n",
       "  </tbody>\n",
       "</table>\n",
       "</div>"
      ],
      "text/plain": [
       "    road  id  model_type condition         name        lat        lon  \\\n",
       "0   N514   0  sourcesink       NaN    SoSi_N514  24.841151  89.374055   \n",
       "1   N514   1        link       NaN  link_LRP002  24.841151  89.374055   \n",
       "2   N514   2      bridge         B       LRP002  24.841151  89.374055   \n",
       "3   N514   3        link       NaN  link_LRP002  24.841151  89.374055   \n",
       "4   N514   4      bridge         A       LRP005  24.864778  89.372249   \n",
       "5   N514   5        link       NaN  link_LRP005  24.864778  89.372249   \n",
       "6   N514   6      bridge         A       LRP007  24.883399  89.362841   \n",
       "7   N514   7        link       NaN  link_LRP007  24.883399  89.362841   \n",
       "8   N514   8      bridge         A       LRP008  24.884793  89.361876   \n",
       "9   N514   9        link       NaN  link_LRP008  24.884793  89.361876   \n",
       "10  N514  10  sourcesink       NaN    SoSi_N514  24.884793  89.361876   \n",
       "\n",
       "     length  chainage  \n",
       "0      1.00   0.00000  \n",
       "1   2967.00   0.00000  \n",
       "2      1.45   2.96700  \n",
       "3   2676.55   2.96845  \n",
       "4     13.25   5.64500  \n",
       "5   2279.75   5.65825  \n",
       "6      2.20   7.93800  \n",
       "7    217.80   7.94020  \n",
       "8      3.60   8.15800  \n",
       "9      3.60   8.16160  \n",
       "10     1.00   8.16160  "
      ]
     },
     "execution_count": 92,
     "metadata": {},
     "output_type": "execute_result"
    }
   ],
   "source": [
    "#Example of cleaned road\n",
    "N_roads_cleaned['N514']"
   ]
  },
  {
   "cell_type": "markdown",
   "metadata": {},
   "source": [
    "#### Remove N roads shorter than 25 km"
   ]
  },
  {
   "cell_type": "code",
   "execution_count": 93,
   "metadata": {},
   "outputs": [
    {
     "data": {
      "text/plain": [
       "56"
      ]
     },
     "execution_count": 93,
     "metadata": {},
     "output_type": "execute_result"
    }
   ],
   "source": [
    "#How many roads we started with\n",
    "len(N_roads_cleaned)"
   ]
  },
  {
   "cell_type": "code",
   "execution_count": 94,
   "metadata": {},
   "outputs": [],
   "source": [
    "#Remove N roads based on chainage values.\n",
    "for index, value in N_roads_cleaned.copy().items():\n",
    "    if value.iloc[-1]['chainage'] < 25:\n",
    "        N_roads_cleaned.pop(index)"
   ]
  },
  {
   "cell_type": "code",
   "execution_count": 95,
   "metadata": {},
   "outputs": [
    {
     "data": {
      "text/plain": [
       "27"
      ]
     },
     "execution_count": 95,
     "metadata": {},
     "output_type": "execute_result"
    }
   ],
   "source": [
    "#How many roads we are left with\n",
    "len(N_roads_cleaned)"
   ]
  },
  {
   "attachments": {},
   "cell_type": "markdown",
   "metadata": {},
   "source": [
    "#### Plot roads for Inspection"
   ]
  },
  {
   "cell_type": "code",
   "execution_count": 96,
   "metadata": {},
   "outputs": [
    {
     "data": {
      "image/png": "[encoded data removed]",
      "text/plain": [
       "<Figure size 640x480 with 1 Axes>"
      ]
     },
     "metadata": {},
     "output_type": "display_data"
    }
   ],
   "source": [
    "#Plot N1 and N2\n",
    "ax = N_roads_cleaned[\"N1\"].plot(kind=\"scatter\", x=\"lon\", y=\"lat\", alpha=0.4, color='blue')\n",
    "N_roads_cleaned[\"N2\"].plot(ax=ax, kind=\"scatter\", x=\"lon\", y=\"lat\", alpha=0.4, color='red')\n",
    "N_roads_cleaned[\"N8\"].plot(ax=ax, kind=\"scatter\", x=\"lon\", y=\"lat\", alpha=0.4, color='orange')\n",
    "plt.show()"
   ]
  },
  {
   "cell_type": "code",
   "execution_count": 97,
   "metadata": {},
   "outputs": [
    {
     "data": {
      "image/png": "[encoded data removed]",
      "text/plain": [
       "<Figure size 1000x800 with 1 Axes>"
      ]
     },
     "metadata": {},
     "output_type": "display_data"
    }
   ],
   "source": [
    "#Plot all N roads longer than 25 km\n",
    "color = iter(plt.cm.rainbow(np.linspace(0, 1, len(N_roads_cleaned))))\n",
    "fig, ax = plt.subplots(figsize=(10, 8))\n",
    "for item, value in N_roads_cleaned.items():\n",
    "    c = next(color)\n",
    "    value.plot(ax=ax, kind=\"scatter\", x=\"lon\", y=\"lat\", alpha=0.4, s=8, label=item, c=c.reshape(1,-1))\n",
    "ax.legend(bbox_to_anchor=(1, 1), ncol=2)\n",
    "plt.show()"
   ]
  },
  {
   "attachments": {},
   "cell_type": "markdown",
   "metadata": {},
   "source": [
    "### Identifying Intersections"
   ]
  },
  {
   "cell_type": "markdown",
   "metadata": {},
   "source": [
    "#### Define function to calculate distance between points"
   ]
  },
  {
   "cell_type": "code",
   "execution_count": 98,
   "metadata": {},
   "outputs": [],
   "source": [
    "def compute_distance(p1, p2):\n",
    "    p1 = (p1[\"lat\"], p1[\"lon\"])\n",
    "    p2 = (p2[\"lat\"], p2[\"lon\"])\n",
    "    return geopy.distance.geodesic(p1, p2).km"
   ]
  },
  {
   "cell_type": "code",
   "execution_count": 99,
   "metadata": {},
   "outputs": [
    {
     "data": {
      "text/plain": [
       "2.9832224668539635"
      ]
     },
     "execution_count": 99,
     "metadata": {},
     "output_type": "execute_result"
    }
   ],
   "source": [
    "p1 = N_roads_cleaned[\"N1\"].iloc[0]\n",
    "p2 = N_roads_cleaned[\"N1\"].iloc[4]\n",
    "compute_distance(p1, p2)"
   ]
  },
  {
   "attachments": {},
   "cell_type": "markdown",
   "metadata": {},
   "source": [
    "#### Find potential intersections between N1 & N2 and other roads"
   ]
  },
  {
   "cell_type": "code",
   "execution_count": 100,
   "metadata": {},
   "outputs": [],
   "source": [
    "def find_intersections(road, infrastructure, radius): # n1, and all non-n1 roads\n",
    "    #Create new df for intersections\n",
    "    intersections = pd.DataFrame(columns = ['road', 'road2', 'id', 'model_type', 'condition', 'name',\n",
    "                                            'lat', 'lon', 'length', 'chainage', 'chainage2', 'distance_between_roads'])\n",
    "    #Loop n1\n",
    "    for index_n1, bridge_n1 in tqdm(road.iterrows()): \n",
    "        previous_dist = 1000000\n",
    "    \n",
    "        #Loop each road in bridge_other\n",
    "        for item, value in N_roads_cleaned.items(): \n",
    "\n",
    "            #Loop each LRP per road\n",
    "            for index_other, bridge_other in value.iterrows(): \n",
    "                distance = compute_distance(bridge_n1, bridge_other)\n",
    "\n",
    "                #Within boundaries of n1's LRP\n",
    "                if distance < radius:\n",
    "                    if (bridge_n1.model_type != \"Bridge\") and (bridge_other.model_type != \"Bridge\"):\n",
    "                        new_index = len(intersections.index)\n",
    "                        row = {'road':bridge_n1[\"road\"],\n",
    "                            'road2':(bridge_other[\"road\"]),\n",
    "                            'id': None,\n",
    "                            'model_type':'intersection',\n",
    "                            'condition': 'NaN',\n",
    "                            'name':\"IS_\" + str(bridge_n1[\"road\"]) + str(bridge_other[\"road\"]),\n",
    "                            'lat':((bridge_n1['lat'] + bridge_other['lat']) / 2),\n",
    "                            'lon':((bridge_n1['lon'] + bridge_other['lon']) / 2),\n",
    "                            'length': 20,\n",
    "                            'chainage':bridge_n1['chainage']+0.001,\n",
    "                            'chainage2':bridge_other['chainage']+0.001,\n",
    "                            'distance_between_roads':distance}\n",
    "                        intersections.loc[new_index] = row\n",
    "                previous_dist = distance\n",
    "\n",
    "    intersections = intersections.sort_values(['road', 'name', 'chainage'])\n",
    "    return intersections"
   ]
  },
  {
   "cell_type": "code",
   "execution_count": 101,
   "metadata": {},
   "outputs": [
    {
     "data": {
      "application/json": {
       "ascii": false,
       "bar_format": null,
       "colour": null,
       "elapsed": 0.027108192443847656,
       "initial": 0,
       "n": 0,
       "ncols": null,
       "nrows": null,
       "postfix": null,
       "prefix": "",
       "rate": null,
       "total": null,
       "unit": "it",
       "unit_divisor": 1000,
       "unit_scale": false
      },
      "application/vnd.jupyter.widget-view+json": {
       "model_id": "7fa64d5eed47497e8e96e6a5114e9535",
       "version_major": 2,
       "version_minor": 0
      },
      "text/plain": [
       "0it [00:00, ?it/s]"
      ]
     },
     "metadata": {},
     "output_type": "display_data"
    }
   ],
   "source": [
    "#Save road N1 and remove from dictionary\n",
    "road_n1 = N_roads_cleaned.pop(\"N1\")\n",
    "\n",
    "#Find all possible intersections for N1\n",
    "intersections_n1 = find_intersections(road_n1, N_roads_cleaned, 13)"
   ]
  },
  {
   "cell_type": "code",
   "execution_count": 102,
   "metadata": {},
   "outputs": [
    {
     "data": {
      "application/json": {
       "ascii": false,
       "bar_format": null,
       "colour": null,
       "elapsed": 0.025922060012817383,
       "initial": 0,
       "n": 0,
       "ncols": null,
       "nrows": null,
       "postfix": null,
       "prefix": "",
       "rate": null,
       "total": null,
       "unit": "it",
       "unit_divisor": 1000,
       "unit_scale": false
      },
      "application/vnd.jupyter.widget-view+json": {
       "model_id": "278590ab0c384b639a358c52015044ef",
       "version_major": 2,
       "version_minor": 0
      },
      "text/plain": [
       "0it [00:00, ?it/s]"
      ]
     },
     "metadata": {},
     "output_type": "display_data"
    }
   ],
   "source": [
    "#Save road N2 and remove from dictionary\n",
    "road_n2 = N_roads_cleaned.pop(\"N2\")\n",
    "\n",
    "#Find all possible intersections for N2\n",
    "intersections_n2 = find_intersections(road_n2, N_roads_cleaned, 13)"
   ]
  },
  {
   "cell_type": "markdown",
   "metadata": {},
   "source": [
    "#### Find final intersections by removing duplicates"
   ]
  },
  {
   "cell_type": "code",
   "execution_count": 103,
   "metadata": {},
   "outputs": [],
   "source": [
    "def remove_intersection_duplicates(intersections_df, threshold):\n",
    "    intersections = intersections_df.copy()\n",
    "    prv_road = \"ABCROAD\"\n",
    "    prv_index = 69696969\n",
    "    prv_length = len(intersections)+1\n",
    "\n",
    "    #Algorithm compares two neighbouring intersections each iteration (like a bubble sort)\n",
    "    #Will terminate run when no other points are removed\n",
    "    while (len(intersections) != prv_length):\n",
    "        prv_length = len(intersections)\n",
    "\n",
    "        #Loop through all potential intersections\n",
    "        for index, inters in tqdm(intersections.iterrows()):\n",
    "            cur_road = inters[\"road2\"]\n",
    "            \n",
    "            #If within same road\n",
    "            if (cur_road == prv_road):\n",
    "                \n",
    "                #If two points are near (same intersection)\n",
    "                if compute_distance(inters, prv_inters) < threshold:\n",
    "\n",
    "                    #If current point is worse than previous point\n",
    "                    if (inters['distance_between_roads'] >= prv_inters['distance_between_roads']):\n",
    "                        #drop current point\n",
    "                        intersections.drop(index, inplace=True, errors=\"ignore\")\n",
    "                        \n",
    "                    #Check if previous index still exists to delete    \n",
    "                    elif(prv_index in intersections.index): \n",
    "                        #drop previous point\n",
    "                        intersections.drop(prv_index, inplace=True, errors=\"ignore\")\n",
    "\n",
    "                    #Both points are still legitimate\n",
    "                    else:\n",
    "                        pass\n",
    "\n",
    "                #Two points are far (different intersection)\n",
    "                else: \n",
    "                    pass\n",
    "            \n",
    "            prv_road = cur_road\n",
    "            prv_inters = inters\n",
    "            prv_index = index\n",
    "\n",
    "    return intersections"
   ]
  },
  {
   "cell_type": "code",
   "execution_count": 104,
   "metadata": {},
   "outputs": [
    {
     "data": {
      "application/json": {
       "ascii": false,
       "bar_format": null,
       "colour": null,
       "elapsed": 0.03148651123046875,
       "initial": 0,
       "n": 0,
       "ncols": null,
       "nrows": null,
       "postfix": null,
       "prefix": "",
       "rate": null,
       "total": null,
       "unit": "it",
       "unit_divisor": 1000,
       "unit_scale": false
      },
      "application/vnd.jupyter.widget-view+json": {
       "model_id": "dbdab0b3ffdf4aed8448e671a4ecd321",
       "version_major": 2,
       "version_minor": 0
      },
      "text/plain": [
       "0it [00:00, ?it/s]"
      ]
     },
     "metadata": {},
     "output_type": "display_data"
    },
    {
     "data": {
      "application/json": {
       "ascii": false,
       "bar_format": null,
       "colour": null,
       "elapsed": 0.021472930908203125,
       "initial": 0,
       "n": 0,
       "ncols": null,
       "nrows": null,
       "postfix": null,
       "prefix": "",
       "rate": null,
       "total": null,
       "unit": "it",
       "unit_divisor": 1000,
       "unit_scale": false
      },
      "application/vnd.jupyter.widget-view+json": {
       "model_id": "ce18d89b952946bebe7470abb21a6b13",
       "version_major": 2,
       "version_minor": 0
      },
      "text/plain": [
       "0it [00:00, ?it/s]"
      ]
     },
     "metadata": {},
     "output_type": "display_data"
    },
    {
     "data": {
      "application/json": {
       "ascii": false,
       "bar_format": null,
       "colour": null,
       "elapsed": 0.021947383880615234,
       "initial": 0,
       "n": 0,
       "ncols": null,
       "nrows": null,
       "postfix": null,
       "prefix": "",
       "rate": null,
       "total": null,
       "unit": "it",
       "unit_divisor": 1000,
       "unit_scale": false
      },
      "application/vnd.jupyter.widget-view+json": {
       "model_id": "1bdf21e49124401f8c58273671823299",
       "version_major": 2,
       "version_minor": 0
      },
      "text/plain": [
       "0it [00:00, ?it/s]"
      ]
     },
     "metadata": {},
     "output_type": "display_data"
    },
    {
     "data": {
      "application/json": {
       "ascii": false,
       "bar_format": null,
       "colour": null,
       "elapsed": 0.03542637825012207,
       "initial": 0,
       "n": 0,
       "ncols": null,
       "nrows": null,
       "postfix": null,
       "prefix": "",
       "rate": null,
       "total": null,
       "unit": "it",
       "unit_divisor": 1000,
       "unit_scale": false
      },
      "application/vnd.jupyter.widget-view+json": {
       "model_id": "540bfb08cacd4ded83866fecdd9f0abc",
       "version_major": 2,
       "version_minor": 0
      },
      "text/plain": [
       "0it [00:00, ?it/s]"
      ]
     },
     "metadata": {},
     "output_type": "display_data"
    },
    {
     "data": {
      "application/json": {
       "ascii": false,
       "bar_format": null,
       "colour": null,
       "elapsed": 0.028920650482177734,
       "initial": 0,
       "n": 0,
       "ncols": null,
       "nrows": null,
       "postfix": null,
       "prefix": "",
       "rate": null,
       "total": null,
       "unit": "it",
       "unit_divisor": 1000,
       "unit_scale": false
      },
      "application/vnd.jupyter.widget-view+json": {
       "model_id": "9ac842d9ceb445f19289a6a3bc64dbaa",
       "version_major": 2,
       "version_minor": 0
      },
      "text/plain": [
       "0it [00:00, ?it/s]"
      ]
     },
     "metadata": {},
     "output_type": "display_data"
    },
    {
     "data": {
      "application/json": {
       "ascii": false,
       "bar_format": null,
       "colour": null,
       "elapsed": 0.024939298629760742,
       "initial": 0,
       "n": 0,
       "ncols": null,
       "nrows": null,
       "postfix": null,
       "prefix": "",
       "rate": null,
       "total": null,
       "unit": "it",
       "unit_divisor": 1000,
       "unit_scale": false
      },
      "application/vnd.jupyter.widget-view+json": {
       "model_id": "eebb56ed16b54668bd607a0c0d46b746",
       "version_major": 2,
       "version_minor": 0
      },
      "text/plain": [
       "0it [00:00, ?it/s]"
      ]
     },
     "metadata": {},
     "output_type": "display_data"
    },
    {
     "data": {
      "text/html": [
       "<div>\n",
       "<style scoped>\n",
       "    .dataframe tbody tr th:only-of-type {\n",
       "        vertical-align: middle;\n",
       "    }\n",
       "\n",
       "    .dataframe tbody tr th {\n",
       "        vertical-align: top;\n",
       "    }\n",
       "\n",
       "    .dataframe thead th {\n",
       "        text-align: right;\n",
       "    }\n",
       "</style>\n",
       "<table border=\"1\" class=\"dataframe\">\n",
       "  <thead>\n",
       "    <tr style=\"text-align: right;\">\n",
       "      <th></th>\n",
       "      <th>road</th>\n",
       "      <th>road2</th>\n",
       "      <th>id</th>\n",
       "      <th>model_type</th>\n",
       "      <th>condition</th>\n",
       "      <th>name</th>\n",
       "      <th>lat</th>\n",
       "      <th>lon</th>\n",
       "      <th>length</th>\n",
       "      <th>chainage</th>\n",
       "      <th>chainage2</th>\n",
       "      <th>distance_between_roads</th>\n",
       "    </tr>\n",
       "  </thead>\n",
       "  <tbody>\n",
       "    <tr>\n",
       "      <th>1164</th>\n",
       "      <td>N1</td>\n",
       "      <td>N102</td>\n",
       "      <td>None</td>\n",
       "      <td>intersection</td>\n",
       "      <td>NaN</td>\n",
       "      <td>IS_N1N102</td>\n",
       "      <td>23.482349</td>\n",
       "      <td>91.110225</td>\n",
       "      <td>20</td>\n",
       "      <td>80.950</td>\n",
       "      <td>0.001</td>\n",
       "      <td>1.142174</td>\n",
       "    </tr>\n",
       "    <tr>\n",
       "      <th>1524</th>\n",
       "      <td>N1</td>\n",
       "      <td>N104</td>\n",
       "      <td>None</td>\n",
       "      <td>intersection</td>\n",
       "      <td>NaN</td>\n",
       "      <td>IS_N1N104</td>\n",
       "      <td>23.011122</td>\n",
       "      <td>91.376076</td>\n",
       "      <td>20</td>\n",
       "      <td>144.940</td>\n",
       "      <td>2.631</td>\n",
       "      <td>0.482733</td>\n",
       "    </tr>\n",
       "    <tr>\n",
       "      <th>380</th>\n",
       "      <td>N1</td>\n",
       "      <td>N105</td>\n",
       "      <td>None</td>\n",
       "      <td>intersection</td>\n",
       "      <td>NaN</td>\n",
       "      <td>IS_N1N105</td>\n",
       "      <td>23.689510</td>\n",
       "      <td>90.547638</td>\n",
       "      <td>20</td>\n",
       "      <td>12.240</td>\n",
       "      <td>0.001</td>\n",
       "      <td>0.307266</td>\n",
       "    </tr>\n",
       "    <tr>\n",
       "      <th>2488</th>\n",
       "      <td>N1</td>\n",
       "      <td>N106</td>\n",
       "      <td>None</td>\n",
       "      <td>intersection</td>\n",
       "      <td>NaN</td>\n",
       "      <td>IS_N1N106</td>\n",
       "      <td>22.378690</td>\n",
       "      <td>91.836153</td>\n",
       "      <td>20</td>\n",
       "      <td>242.017</td>\n",
       "      <td>0.001</td>\n",
       "      <td>5.322294</td>\n",
       "    </tr>\n",
       "    <tr>\n",
       "      <th>200</th>\n",
       "      <td>N1</td>\n",
       "      <td>N2</td>\n",
       "      <td>None</td>\n",
       "      <td>intersection</td>\n",
       "      <td>NaN</td>\n",
       "      <td>IS_N1N2</td>\n",
       "      <td>23.711562</td>\n",
       "      <td>90.519493</td>\n",
       "      <td>20</td>\n",
       "      <td>8.977</td>\n",
       "      <td>0.001</td>\n",
       "      <td>1.628116</td>\n",
       "    </tr>\n",
       "    <tr>\n",
       "      <th>4</th>\n",
       "      <td>N1</td>\n",
       "      <td>N8</td>\n",
       "      <td>None</td>\n",
       "      <td>intersection</td>\n",
       "      <td>NaN</td>\n",
       "      <td>IS_N1N8</td>\n",
       "      <td>23.691325</td>\n",
       "      <td>90.441086</td>\n",
       "      <td>20</td>\n",
       "      <td>0.001</td>\n",
       "      <td>0.001</td>\n",
       "      <td>3.980467</td>\n",
       "    </tr>\n",
       "  </tbody>\n",
       "</table>\n",
       "</div>"
      ],
      "text/plain": [
       "     road road2    id    model_type condition       name        lat  \\\n",
       "1164   N1  N102  None  intersection       NaN  IS_N1N102  23.482349   \n",
       "1524   N1  N104  None  intersection       NaN  IS_N1N104  23.011122   \n",
       "380    N1  N105  None  intersection       NaN  IS_N1N105  23.689510   \n",
       "2488   N1  N106  None  intersection       NaN  IS_N1N106  22.378690   \n",
       "200    N1    N2  None  intersection       NaN    IS_N1N2  23.711562   \n",
       "4      N1    N8  None  intersection       NaN    IS_N1N8  23.691325   \n",
       "\n",
       "            lon  length  chainage  chainage2  distance_between_roads  \n",
       "1164  91.110225      20    80.950      0.001                1.142174  \n",
       "1524  91.376076      20   144.940      2.631                0.482733  \n",
       "380   90.547638      20    12.240      0.001                0.307266  \n",
       "2488  91.836153      20   242.017      0.001                5.322294  \n",
       "200   90.519493      20     8.977      0.001                1.628116  \n",
       "4     90.441086      20     0.001      0.001                3.980467  "
      ]
     },
     "execution_count": 104,
     "metadata": {},
     "output_type": "execute_result"
    }
   ],
   "source": [
    "#Clean potential intersections in N1\n",
    "intersections_n1_ = remove_intersection_duplicates(intersections_n1,13)\n",
    "\n",
    "#Visualize N1\n",
    "intersections_n1_.head(10)"
   ]
  },
  {
   "cell_type": "code",
   "execution_count": 105,
   "metadata": {},
   "outputs": [
    {
     "data": {
      "application/json": {
       "ascii": false,
       "bar_format": null,
       "colour": null,
       "elapsed": 0.0298917293548584,
       "initial": 0,
       "n": 0,
       "ncols": null,
       "nrows": null,
       "postfix": null,
       "prefix": "",
       "rate": null,
       "total": null,
       "unit": "it",
       "unit_divisor": 1000,
       "unit_scale": false
      },
      "application/vnd.jupyter.widget-view+json": {
       "model_id": "c6c0af4f5dde4d74885ead1511067ca3",
       "version_major": 2,
       "version_minor": 0
      },
      "text/plain": [
       "0it [00:00, ?it/s]"
      ]
     },
     "metadata": {},
     "output_type": "display_data"
    },
    {
     "data": {
      "application/json": {
       "ascii": false,
       "bar_format": null,
       "colour": null,
       "elapsed": 0.017948150634765625,
       "initial": 0,
       "n": 0,
       "ncols": null,
       "nrows": null,
       "postfix": null,
       "prefix": "",
       "rate": null,
       "total": null,
       "unit": "it",
       "unit_divisor": 1000,
       "unit_scale": false
      },
      "application/vnd.jupyter.widget-view+json": {
       "model_id": "0d2548ea16c545ccbb9b924cb1af9d07",
       "version_major": 2,
       "version_minor": 0
      },
      "text/plain": [
       "0it [00:00, ?it/s]"
      ]
     },
     "metadata": {},
     "output_type": "display_data"
    },
    {
     "data": {
      "application/json": {
       "ascii": false,
       "bar_format": null,
       "colour": null,
       "elapsed": 0.018002748489379883,
       "initial": 0,
       "n": 0,
       "ncols": null,
       "nrows": null,
       "postfix": null,
       "prefix": "",
       "rate": null,
       "total": null,
       "unit": "it",
       "unit_divisor": 1000,
       "unit_scale": false
      },
      "application/vnd.jupyter.widget-view+json": {
       "model_id": "a7dcbdd451914c168212514e5c7a2415",
       "version_major": 2,
       "version_minor": 0
      },
      "text/plain": [
       "0it [00:00, ?it/s]"
      ]
     },
     "metadata": {},
     "output_type": "display_data"
    },
    {
     "data": {
      "application/json": {
       "ascii": false,
       "bar_format": null,
       "colour": null,
       "elapsed": 0.01698899269104004,
       "initial": 0,
       "n": 0,
       "ncols": null,
       "nrows": null,
       "postfix": null,
       "prefix": "",
       "rate": null,
       "total": null,
       "unit": "it",
       "unit_divisor": 1000,
       "unit_scale": false
      },
      "application/vnd.jupyter.widget-view+json": {
       "model_id": "55b807d8972a4e96b6e4eef8d395a39a",
       "version_major": 2,
       "version_minor": 0
      },
      "text/plain": [
       "0it [00:00, ?it/s]"
      ]
     },
     "metadata": {},
     "output_type": "display_data"
    },
    {
     "data": {
      "application/json": {
       "ascii": false,
       "bar_format": null,
       "colour": null,
       "elapsed": 0.02642083168029785,
       "initial": 0,
       "n": 0,
       "ncols": null,
       "nrows": null,
       "postfix": null,
       "prefix": "",
       "rate": null,
       "total": null,
       "unit": "it",
       "unit_divisor": 1000,
       "unit_scale": false
      },
      "application/vnd.jupyter.widget-view+json": {
       "model_id": "107df99c546b4e2c9088709211055289",
       "version_major": 2,
       "version_minor": 0
      },
      "text/plain": [
       "0it [00:00, ?it/s]"
      ]
     },
     "metadata": {},
     "output_type": "display_data"
    },
    {
     "data": {
      "text/html": [
       "<div>\n",
       "<style scoped>\n",
       "    .dataframe tbody tr th:only-of-type {\n",
       "        vertical-align: middle;\n",
       "    }\n",
       "\n",
       "    .dataframe tbody tr th {\n",
       "        vertical-align: top;\n",
       "    }\n",
       "\n",
       "    .dataframe thead th {\n",
       "        text-align: right;\n",
       "    }\n",
       "</style>\n",
       "<table border=\"1\" class=\"dataframe\">\n",
       "  <thead>\n",
       "    <tr style=\"text-align: right;\">\n",
       "      <th></th>\n",
       "      <th>road</th>\n",
       "      <th>road2</th>\n",
       "      <th>id</th>\n",
       "      <th>model_type</th>\n",
       "      <th>condition</th>\n",
       "      <th>name</th>\n",
       "      <th>lat</th>\n",
       "      <th>lon</th>\n",
       "      <th>length</th>\n",
       "      <th>chainage</th>\n",
       "      <th>chainage2</th>\n",
       "      <th>distance_between_roads</th>\n",
       "    </tr>\n",
       "  </thead>\n",
       "  <tbody>\n",
       "    <tr>\n",
       "      <th>980</th>\n",
       "      <td>N2</td>\n",
       "      <td>N102</td>\n",
       "      <td>None</td>\n",
       "      <td>intersection</td>\n",
       "      <td>NaN</td>\n",
       "      <td>IS_N2N102</td>\n",
       "      <td>24.045794</td>\n",
       "      <td>91.107564</td>\n",
       "      <td>20</td>\n",
       "      <td>84.420</td>\n",
       "      <td>81.780</td>\n",
       "      <td>1.493541</td>\n",
       "    </tr>\n",
       "    <tr>\n",
       "      <th>238</th>\n",
       "      <td>N2</td>\n",
       "      <td>N105</td>\n",
       "      <td>None</td>\n",
       "      <td>intersection</td>\n",
       "      <td>NaN</td>\n",
       "      <td>IS_N2N105</td>\n",
       "      <td>23.810564</td>\n",
       "      <td>90.576576</td>\n",
       "      <td>20</td>\n",
       "      <td>14.334</td>\n",
       "      <td>16.586</td>\n",
       "      <td>2.505532</td>\n",
       "    </tr>\n",
       "    <tr>\n",
       "      <th>1824</th>\n",
       "      <td>N2</td>\n",
       "      <td>N204</td>\n",
       "      <td>None</td>\n",
       "      <td>intersection</td>\n",
       "      <td>NaN</td>\n",
       "      <td>IS_N2N204</td>\n",
       "      <td>24.151430</td>\n",
       "      <td>91.350086</td>\n",
       "      <td>20</td>\n",
       "      <td>117.087</td>\n",
       "      <td>0.001</td>\n",
       "      <td>0.731630</td>\n",
       "    </tr>\n",
       "    <tr>\n",
       "      <th>2778</th>\n",
       "      <td>N2</td>\n",
       "      <td>N204</td>\n",
       "      <td>None</td>\n",
       "      <td>intersection</td>\n",
       "      <td>NaN</td>\n",
       "      <td>IS_N2N204</td>\n",
       "      <td>24.267422</td>\n",
       "      <td>91.477096</td>\n",
       "      <td>20</td>\n",
       "      <td>141.383</td>\n",
       "      <td>34.301</td>\n",
       "      <td>0.188402</td>\n",
       "    </tr>\n",
       "    <tr>\n",
       "      <th>3055</th>\n",
       "      <td>N2</td>\n",
       "      <td>N207</td>\n",
       "      <td>None</td>\n",
       "      <td>intersection</td>\n",
       "      <td>NaN</td>\n",
       "      <td>IS_N2N207</td>\n",
       "      <td>24.296680</td>\n",
       "      <td>91.512094</td>\n",
       "      <td>20</td>\n",
       "      <td>146.095</td>\n",
       "      <td>0.001</td>\n",
       "      <td>0.372210</td>\n",
       "    </tr>\n",
       "    <tr>\n",
       "      <th>4504</th>\n",
       "      <td>N2</td>\n",
       "      <td>N207</td>\n",
       "      <td>None</td>\n",
       "      <td>intersection</td>\n",
       "      <td>NaN</td>\n",
       "      <td>IS_N2N207</td>\n",
       "      <td>24.623715</td>\n",
       "      <td>91.675485</td>\n",
       "      <td>20</td>\n",
       "      <td>190.385</td>\n",
       "      <td>67.561</td>\n",
       "      <td>0.580146</td>\n",
       "    </tr>\n",
       "    <tr>\n",
       "      <th>5354</th>\n",
       "      <td>N2</td>\n",
       "      <td>N208</td>\n",
       "      <td>None</td>\n",
       "      <td>intersection</td>\n",
       "      <td>NaN</td>\n",
       "      <td>IS_N2N208</td>\n",
       "      <td>24.877652</td>\n",
       "      <td>91.874497</td>\n",
       "      <td>20</td>\n",
       "      <td>227.582</td>\n",
       "      <td>57.090</td>\n",
       "      <td>0.194157</td>\n",
       "    </tr>\n",
       "    <tr>\n",
       "      <th>0</th>\n",
       "      <td>N2</td>\n",
       "      <td>N8</td>\n",
       "      <td>None</td>\n",
       "      <td>intersection</td>\n",
       "      <td>NaN</td>\n",
       "      <td>IS_N2N8</td>\n",
       "      <td>23.700988</td>\n",
       "      <td>90.469541</td>\n",
       "      <td>20</td>\n",
       "      <td>0.001</td>\n",
       "      <td>0.001</td>\n",
       "      <td>10.160082</td>\n",
       "    </tr>\n",
       "  </tbody>\n",
       "</table>\n",
       "</div>"
      ],
      "text/plain": [
       "     road road2    id    model_type condition       name        lat  \\\n",
       "980    N2  N102  None  intersection       NaN  IS_N2N102  24.045794   \n",
       "238    N2  N105  None  intersection       NaN  IS_N2N105  23.810564   \n",
       "1824   N2  N204  None  intersection       NaN  IS_N2N204  24.151430   \n",
       "2778   N2  N204  None  intersection       NaN  IS_N2N204  24.267422   \n",
       "3055   N2  N207  None  intersection       NaN  IS_N2N207  24.296680   \n",
       "4504   N2  N207  None  intersection       NaN  IS_N2N207  24.623715   \n",
       "5354   N2  N208  None  intersection       NaN  IS_N2N208  24.877652   \n",
       "0      N2    N8  None  intersection       NaN    IS_N2N8  23.700988   \n",
       "\n",
       "            lon  length  chainage  chainage2  distance_between_roads  \n",
       "980   91.107564      20    84.420     81.780                1.493541  \n",
       "238   90.576576      20    14.334     16.586                2.505532  \n",
       "1824  91.350086      20   117.087      0.001                0.731630  \n",
       "2778  91.477096      20   141.383     34.301                0.188402  \n",
       "3055  91.512094      20   146.095      0.001                0.372210  \n",
       "4504  91.675485      20   190.385     67.561                0.580146  \n",
       "5354  91.874497      20   227.582     57.090                0.194157  \n",
       "0     90.469541      20     0.001      0.001               10.160082  "
      ]
     },
     "execution_count": 105,
     "metadata": {},
     "output_type": "execute_result"
    }
   ],
   "source": [
    "#Clean potential intersections in N2\n",
    "intersections_n2_ = remove_intersection_duplicates(intersections_n2, 13)\n",
    "\n",
    "#Visualize N2\n",
    "intersections_n2_.head(10)"
   ]
  },
  {
   "attachments": {},
   "cell_type": "markdown",
   "metadata": {},
   "source": [
    "### Plot intersections"
   ]
  },
  {
   "cell_type": "code",
   "execution_count": 106,
   "metadata": {},
   "outputs": [
    {
     "name": "stdout",
     "output_type": "stream",
     "text": [
      "['N102', 'N104', 'N105', 'N106', 'N8', 'N204', 'N207', 'N208']\n"
     ]
    }
   ],
   "source": [
    "#Get all roads which need to be plotted next to the N1\n",
    "plot_roads = list(intersections_n1_.name.unique()) + list(intersections_n2_.name.unique())\n",
    "\n",
    "#Remove first 5 char in list\n",
    "plot_roads = [sub[5:] for sub in plot_roads]\n",
    "\n",
    "#Drop duplicates\n",
    "plot_roads = list(dict.fromkeys(plot_roads))\n",
    "\n",
    "#Remove N2\n",
    "plot_roads.remove('N2')\n",
    "print(plot_roads)"
   ]
  },
  {
   "cell_type": "code",
   "execution_count": 107,
   "metadata": {},
   "outputs": [
    {
     "data": {
      "image/png": "[encoded data removed]",
      "text/plain": [
       "<Figure size 1000x800 with 1 Axes>"
      ]
     },
     "metadata": {},
     "output_type": "display_data"
    }
   ],
   "source": [
    "#Plot all N roads longer than 25 km connected to N1 or N2\n",
    "color = iter(plt.cm.rainbow(np.linspace(0, 1, len(plot_roads))))\n",
    "fig, ax = plt.subplots(figsize=(10, 8))\n",
    "road_n1.plot(ax=ax, kind=\"scatter\", x=\"lon\", y=\"lat\", s=6, label='N1', color='green')\n",
    "road_n2.plot(ax=ax, kind=\"scatter\", x=\"lon\", y=\"lat\", s=6, label='N2', color='black')\n",
    "for road in plot_roads:\n",
    "    c = next(color)\n",
    "    N_roads_cleaned[road].plot(ax=ax, kind=\"scatter\", x=\"lon\", y=\"lat\", s=6, label=road, c=c.reshape(1,-1))\n",
    "intersections_n1_.plot(ax=ax, kind=\"scatter\", x=\"lon\", y=\"lat\",s=60, color='red')\n",
    "intersections_n2_.plot(ax=ax, kind=\"scatter\", x=\"lon\", y=\"lat\",s=60, color='red')\n",
    "ax.legend(bbox_to_anchor=(1, 1), ncol=2)\n",
    "plt.show()"
   ]
  },
  {
   "attachments": {},
   "cell_type": "markdown",
   "metadata": {},
   "source": [
    "### Prepararing to Export"
   ]
  },
  {
   "attachments": {},
   "cell_type": "markdown",
   "metadata": {},
   "source": [
    "#### Create final dataframe for model"
   ]
  },
  {
   "cell_type": "code",
   "execution_count": 108,
   "metadata": {},
   "outputs": [],
   "source": [
    "#Add all dataframes of roads to a list\n",
    "frames = [intersections_n1_, road_n1, intersections_n2_, road_n2]\n",
    "for road in plot_roads:\n",
    "    frames.append(N_roads_cleaned[road])\n",
    "    \n",
    "#Concatenate all those dataframes\n",
    "final = pd.concat(frames)"
   ]
  },
  {
   "cell_type": "code",
   "execution_count": 109,
   "metadata": {},
   "outputs": [],
   "source": [
    "#Sort on road and chainage\n",
    "final = final.sort_values(['road', 'chainage'])\n",
    "\n",
    "#Drop distance_between_roads\n",
    "final = final.drop('distance_between_roads', axis=1)\n",
    "\n",
    "#Reset the index\n",
    "final.index = pd.RangeIndex(start=1000000, stop=1000000+len(final), step=1)\n",
    "\n",
    "#Set column id as index\n",
    "final['id'] = final.index"
   ]
  },
  {
   "cell_type": "code",
   "execution_count": 110,
   "metadata": {},
   "outputs": [
    {
     "data": {
      "text/html": [
       "<div>\n",
       "<style scoped>\n",
       "    .dataframe tbody tr th:only-of-type {\n",
       "        vertical-align: middle;\n",
       "    }\n",
       "\n",
       "    .dataframe tbody tr th {\n",
       "        vertical-align: top;\n",
       "    }\n",
       "\n",
       "    .dataframe thead th {\n",
       "        text-align: right;\n",
       "    }\n",
       "</style>\n",
       "<table border=\"1\" class=\"dataframe\">\n",
       "  <thead>\n",
       "    <tr style=\"text-align: right;\">\n",
       "      <th></th>\n",
       "      <th>road</th>\n",
       "      <th>road2</th>\n",
       "      <th>id</th>\n",
       "      <th>model_type</th>\n",
       "      <th>condition</th>\n",
       "      <th>name</th>\n",
       "      <th>lat</th>\n",
       "      <th>lon</th>\n",
       "      <th>length</th>\n",
       "      <th>chainage</th>\n",
       "      <th>chainage2</th>\n",
       "    </tr>\n",
       "  </thead>\n",
       "  <tbody>\n",
       "    <tr>\n",
       "      <th>1000000</th>\n",
       "      <td>N1</td>\n",
       "      <td>NaN</td>\n",
       "      <td>1000000</td>\n",
       "      <td>sourcesink</td>\n",
       "      <td>NaN</td>\n",
       "      <td>SoSi_N1</td>\n",
       "      <td>23.698739</td>\n",
       "      <td>90.458861</td>\n",
       "      <td>1.0</td>\n",
       "      <td>0.0000</td>\n",
       "      <td>NaN</td>\n",
       "    </tr>\n",
       "    <tr>\n",
       "      <th>1000001</th>\n",
       "      <td>N1</td>\n",
       "      <td>NaN</td>\n",
       "      <td>1000001</td>\n",
       "      <td>link</td>\n",
       "      <td>NaN</td>\n",
       "      <td>link_LRP001</td>\n",
       "      <td>23.698739</td>\n",
       "      <td>90.458861</td>\n",
       "      <td>1800.0</td>\n",
       "      <td>0.0000</td>\n",
       "      <td>NaN</td>\n",
       "    </tr>\n",
       "    <tr>\n",
       "      <th>1000002</th>\n",
       "      <td>N1</td>\n",
       "      <td>N8</td>\n",
       "      <td>1000002</td>\n",
       "      <td>intersection</td>\n",
       "      <td>NaN</td>\n",
       "      <td>IS_N1N8</td>\n",
       "      <td>23.691325</td>\n",
       "      <td>90.441086</td>\n",
       "      <td>20.0</td>\n",
       "      <td>0.0010</td>\n",
       "      <td>0.001</td>\n",
       "    </tr>\n",
       "    <tr>\n",
       "      <th>1000003</th>\n",
       "      <td>N1</td>\n",
       "      <td>NaN</td>\n",
       "      <td>1000003</td>\n",
       "      <td>bridge</td>\n",
       "      <td>A</td>\n",
       "      <td>LRP001</td>\n",
       "      <td>23.698739</td>\n",
       "      <td>90.458861</td>\n",
       "      <td>11.3</td>\n",
       "      <td>1.8000</td>\n",
       "      <td>NaN</td>\n",
       "    </tr>\n",
       "    <tr>\n",
       "      <th>1000004</th>\n",
       "      <td>N1</td>\n",
       "      <td>NaN</td>\n",
       "      <td>1000004</td>\n",
       "      <td>link</td>\n",
       "      <td>NaN</td>\n",
       "      <td>link_LRP001</td>\n",
       "      <td>23.698739</td>\n",
       "      <td>90.458861</td>\n",
       "      <td>3113.7</td>\n",
       "      <td>1.8113</td>\n",
       "      <td>NaN</td>\n",
       "    </tr>\n",
       "  </tbody>\n",
       "</table>\n",
       "</div>"
      ],
      "text/plain": [
       "        road road2       id    model_type condition         name        lat  \\\n",
       "1000000   N1   NaN  1000000    sourcesink       NaN      SoSi_N1  23.698739   \n",
       "1000001   N1   NaN  1000001          link       NaN  link_LRP001  23.698739   \n",
       "1000002   N1    N8  1000002  intersection       NaN      IS_N1N8  23.691325   \n",
       "1000003   N1   NaN  1000003        bridge         A       LRP001  23.698739   \n",
       "1000004   N1   NaN  1000004          link       NaN  link_LRP001  23.698739   \n",
       "\n",
       "               lon  length  chainage  chainage2  \n",
       "1000000  90.458861     1.0    0.0000        NaN  \n",
       "1000001  90.458861  1800.0    0.0000        NaN  \n",
       "1000002  90.441086    20.0    0.0010      0.001  \n",
       "1000003  90.458861    11.3    1.8000        NaN  \n",
       "1000004  90.458861  3113.7    1.8113        NaN  "
      ]
     },
     "execution_count": 110,
     "metadata": {},
     "output_type": "execute_result"
    }
   ],
   "source": [
    "#Visualize complete dataframe\n",
    "final.head()"
   ]
  },
  {
   "cell_type": "code",
   "execution_count": 111,
   "metadata": {},
   "outputs": [
    {
     "data": {
      "text/html": [
       "<div>\n",
       "<style scoped>\n",
       "    .dataframe tbody tr th:only-of-type {\n",
       "        vertical-align: middle;\n",
       "    }\n",
       "\n",
       "    .dataframe tbody tr th {\n",
       "        vertical-align: top;\n",
       "    }\n",
       "\n",
       "    .dataframe thead th {\n",
       "        text-align: right;\n",
       "    }\n",
       "</style>\n",
       "<table border=\"1\" class=\"dataframe\">\n",
       "  <thead>\n",
       "    <tr style=\"text-align: right;\">\n",
       "      <th></th>\n",
       "      <th>road</th>\n",
       "      <th>id</th>\n",
       "      <th>model_type</th>\n",
       "      <th>condition</th>\n",
       "      <th>name</th>\n",
       "      <th>lat</th>\n",
       "      <th>lon</th>\n",
       "      <th>length</th>\n",
       "      <th>chainage</th>\n",
       "    </tr>\n",
       "  </thead>\n",
       "  <tbody>\n",
       "    <tr>\n",
       "      <th>1000002</th>\n",
       "      <td>N8</td>\n",
       "      <td>1000002</td>\n",
       "      <td>intersection</td>\n",
       "      <td>NaN</td>\n",
       "      <td>IS_N1N8</td>\n",
       "      <td>23.691325</td>\n",
       "      <td>90.441086</td>\n",
       "      <td>20.0</td>\n",
       "      <td>0.001</td>\n",
       "    </tr>\n",
       "    <tr>\n",
       "      <th>1000008</th>\n",
       "      <td>N2</td>\n",
       "      <td>1000008</td>\n",
       "      <td>intersection</td>\n",
       "      <td>NaN</td>\n",
       "      <td>IS_N1N2</td>\n",
       "      <td>23.711562</td>\n",
       "      <td>90.519493</td>\n",
       "      <td>20.0</td>\n",
       "      <td>0.001</td>\n",
       "    </tr>\n",
       "    <tr>\n",
       "      <th>1000015</th>\n",
       "      <td>N105</td>\n",
       "      <td>1000015</td>\n",
       "      <td>intersection</td>\n",
       "      <td>NaN</td>\n",
       "      <td>IS_N1N105</td>\n",
       "      <td>23.689510</td>\n",
       "      <td>90.547638</td>\n",
       "      <td>20.0</td>\n",
       "      <td>0.001</td>\n",
       "    </tr>\n",
       "    <tr>\n",
       "      <th>1000100</th>\n",
       "      <td>N102</td>\n",
       "      <td>1000100</td>\n",
       "      <td>intersection</td>\n",
       "      <td>NaN</td>\n",
       "      <td>IS_N1N102</td>\n",
       "      <td>23.482349</td>\n",
       "      <td>91.110225</td>\n",
       "      <td>20.0</td>\n",
       "      <td>0.001</td>\n",
       "    </tr>\n",
       "    <tr>\n",
       "      <th>1000185</th>\n",
       "      <td>N104</td>\n",
       "      <td>1000185</td>\n",
       "      <td>intersection</td>\n",
       "      <td>NaN</td>\n",
       "      <td>IS_N1N104</td>\n",
       "      <td>23.011122</td>\n",
       "      <td>91.376076</td>\n",
       "      <td>20.0</td>\n",
       "      <td>2.631</td>\n",
       "    </tr>\n",
       "    <tr>\n",
       "      <th>1000310</th>\n",
       "      <td>N106</td>\n",
       "      <td>1000310</td>\n",
       "      <td>intersection</td>\n",
       "      <td>NaN</td>\n",
       "      <td>IS_N1N106</td>\n",
       "      <td>22.378690</td>\n",
       "      <td>91.836153</td>\n",
       "      <td>20.0</td>\n",
       "      <td>0.001</td>\n",
       "    </tr>\n",
       "    <tr>\n",
       "      <th>1001045</th>\n",
       "      <td>N8</td>\n",
       "      <td>1001045</td>\n",
       "      <td>intersection</td>\n",
       "      <td>NaN</td>\n",
       "      <td>IS_N2N8</td>\n",
       "      <td>23.700988</td>\n",
       "      <td>90.469541</td>\n",
       "      <td>20.0</td>\n",
       "      <td>0.001</td>\n",
       "    </tr>\n",
       "    <tr>\n",
       "      <th>1001053</th>\n",
       "      <td>N105</td>\n",
       "      <td>1001053</td>\n",
       "      <td>intersection</td>\n",
       "      <td>NaN</td>\n",
       "      <td>IS_N2N105</td>\n",
       "      <td>23.810564</td>\n",
       "      <td>90.576576</td>\n",
       "      <td>20.0</td>\n",
       "      <td>16.586</td>\n",
       "    </tr>\n",
       "    <tr>\n",
       "      <th>1001172</th>\n",
       "      <td>N102</td>\n",
       "      <td>1001172</td>\n",
       "      <td>intersection</td>\n",
       "      <td>NaN</td>\n",
       "      <td>IS_N2N102</td>\n",
       "      <td>24.045794</td>\n",
       "      <td>91.107564</td>\n",
       "      <td>20.0</td>\n",
       "      <td>81.780</td>\n",
       "    </tr>\n",
       "    <tr>\n",
       "      <th>1001237</th>\n",
       "      <td>N204</td>\n",
       "      <td>1001237</td>\n",
       "      <td>intersection</td>\n",
       "      <td>NaN</td>\n",
       "      <td>IS_N2N204</td>\n",
       "      <td>24.151430</td>\n",
       "      <td>91.350086</td>\n",
       "      <td>20.0</td>\n",
       "      <td>0.001</td>\n",
       "    </tr>\n",
       "    <tr>\n",
       "      <th>1001284</th>\n",
       "      <td>N204</td>\n",
       "      <td>1001284</td>\n",
       "      <td>intersection</td>\n",
       "      <td>NaN</td>\n",
       "      <td>IS_N2N204</td>\n",
       "      <td>24.267422</td>\n",
       "      <td>91.477096</td>\n",
       "      <td>20.0</td>\n",
       "      <td>34.301</td>\n",
       "    </tr>\n",
       "    <tr>\n",
       "      <th>1001293</th>\n",
       "      <td>N207</td>\n",
       "      <td>1001293</td>\n",
       "      <td>intersection</td>\n",
       "      <td>NaN</td>\n",
       "      <td>IS_N2N207</td>\n",
       "      <td>24.296680</td>\n",
       "      <td>91.512094</td>\n",
       "      <td>20.0</td>\n",
       "      <td>0.001</td>\n",
       "    </tr>\n",
       "    <tr>\n",
       "      <th>1001382</th>\n",
       "      <td>N207</td>\n",
       "      <td>1001382</td>\n",
       "      <td>intersection</td>\n",
       "      <td>NaN</td>\n",
       "      <td>IS_N2N207</td>\n",
       "      <td>24.623715</td>\n",
       "      <td>91.675485</td>\n",
       "      <td>20.0</td>\n",
       "      <td>67.561</td>\n",
       "    </tr>\n",
       "    <tr>\n",
       "      <th>1001447</th>\n",
       "      <td>N208</td>\n",
       "      <td>1001447</td>\n",
       "      <td>intersection</td>\n",
       "      <td>NaN</td>\n",
       "      <td>IS_N2N208</td>\n",
       "      <td>24.877652</td>\n",
       "      <td>91.874497</td>\n",
       "      <td>20.0</td>\n",
       "      <td>57.090</td>\n",
       "    </tr>\n",
       "  </tbody>\n",
       "</table>\n",
       "</div>"
      ],
      "text/plain": [
       "         road       id    model_type condition       name        lat  \\\n",
       "1000002    N8  1000002  intersection       NaN    IS_N1N8  23.691325   \n",
       "1000008    N2  1000008  intersection       NaN    IS_N1N2  23.711562   \n",
       "1000015  N105  1000015  intersection       NaN  IS_N1N105  23.689510   \n",
       "1000100  N102  1000100  intersection       NaN  IS_N1N102  23.482349   \n",
       "1000185  N104  1000185  intersection       NaN  IS_N1N104  23.011122   \n",
       "1000310  N106  1000310  intersection       NaN  IS_N1N106  22.378690   \n",
       "1001045    N8  1001045  intersection       NaN    IS_N2N8  23.700988   \n",
       "1001053  N105  1001053  intersection       NaN  IS_N2N105  23.810564   \n",
       "1001172  N102  1001172  intersection       NaN  IS_N2N102  24.045794   \n",
       "1001237  N204  1001237  intersection       NaN  IS_N2N204  24.151430   \n",
       "1001284  N204  1001284  intersection       NaN  IS_N2N204  24.267422   \n",
       "1001293  N207  1001293  intersection       NaN  IS_N2N207  24.296680   \n",
       "1001382  N207  1001382  intersection       NaN  IS_N2N207  24.623715   \n",
       "1001447  N208  1001447  intersection       NaN  IS_N2N208  24.877652   \n",
       "\n",
       "               lon  length  chainage  \n",
       "1000002  90.441086    20.0     0.001  \n",
       "1000008  90.519493    20.0     0.001  \n",
       "1000015  90.547638    20.0     0.001  \n",
       "1000100  91.110225    20.0     0.001  \n",
       "1000185  91.376076    20.0     2.631  \n",
       "1000310  91.836153    20.0     0.001  \n",
       "1001045  90.469541    20.0     0.001  \n",
       "1001053  90.576576    20.0    16.586  \n",
       "1001172  91.107564    20.0    81.780  \n",
       "1001237  91.350086    20.0     0.001  \n",
       "1001284  91.477096    20.0    34.301  \n",
       "1001293  91.512094    20.0     0.001  \n",
       "1001382  91.675485    20.0    67.561  \n",
       "1001447  91.874497    20.0    57.090  "
      ]
     },
     "execution_count": 111,
     "metadata": {},
     "output_type": "execute_result"
    }
   ],
   "source": [
    "#Check Intersections ouput\n",
    "\n",
    "#Get intersections\n",
    "intersections_nrest = final.copy()\n",
    "intersections_nrest = intersections_nrest[intersections_nrest['model_type'] == 'intersection']\n",
    "\n",
    "#Drop distance_between_roads and road in intersection dataframes of other roads\n",
    "intersections_nrest = intersections_nrest.drop(['road', 'chainage'], axis=1)\n",
    "intersections_nrest.rename(columns={'road2':'road', 'chainage2':'chainage'}, inplace=True)\n",
    "\n",
    "#Visualize all intersections\n",
    "intersections_nrest.head(20)"
   ]
  },
  {
   "cell_type": "code",
   "execution_count": 112,
   "metadata": {},
   "outputs": [],
   "source": [
    "#Drop some columns in final\n",
    "final = final.drop(['road2', 'chainage2'], axis=1)\n",
    "\n",
    "#Finally merge intersections_nrest with final\n",
    "final = pd.concat([final, intersections_nrest])\n",
    "\n",
    "#Sort values\n",
    "final = final.sort_values(['road', 'chainage'])\n",
    "\n",
    "#Drop chainage column\n",
    "final = final.drop('chainage', axis=1)"
   ]
  },
  {
   "cell_type": "code",
   "execution_count": 113,
   "metadata": {},
   "outputs": [
    {
     "data": {
      "text/html": [
       "<div>\n",
       "<style scoped>\n",
       "    .dataframe tbody tr th:only-of-type {\n",
       "        vertical-align: middle;\n",
       "    }\n",
       "\n",
       "    .dataframe tbody tr th {\n",
       "        vertical-align: top;\n",
       "    }\n",
       "\n",
       "    .dataframe thead th {\n",
       "        text-align: right;\n",
       "    }\n",
       "</style>\n",
       "<table border=\"1\" class=\"dataframe\">\n",
       "  <thead>\n",
       "    <tr style=\"text-align: right;\">\n",
       "      <th></th>\n",
       "      <th>road</th>\n",
       "      <th>id</th>\n",
       "      <th>model_type</th>\n",
       "      <th>condition</th>\n",
       "      <th>name</th>\n",
       "      <th>lat</th>\n",
       "      <th>lon</th>\n",
       "      <th>length</th>\n",
       "    </tr>\n",
       "  </thead>\n",
       "  <tbody>\n",
       "    <tr>\n",
       "      <th>1000002</th>\n",
       "      <td>N1</td>\n",
       "      <td>1000002</td>\n",
       "      <td>intersection</td>\n",
       "      <td>NaN</td>\n",
       "      <td>IS_N1N8</td>\n",
       "      <td>23.691325</td>\n",
       "      <td>90.441086</td>\n",
       "      <td>20.0</td>\n",
       "    </tr>\n",
       "    <tr>\n",
       "      <th>1000002</th>\n",
       "      <td>N8</td>\n",
       "      <td>1000002</td>\n",
       "      <td>intersection</td>\n",
       "      <td>NaN</td>\n",
       "      <td>IS_N1N8</td>\n",
       "      <td>23.691325</td>\n",
       "      <td>90.441086</td>\n",
       "      <td>20.0</td>\n",
       "    </tr>\n",
       "  </tbody>\n",
       "</table>\n",
       "</div>"
      ],
      "text/plain": [
       "        road       id    model_type condition     name        lat        lon  \\\n",
       "1000002   N1  1000002  intersection       NaN  IS_N1N8  23.691325  90.441086   \n",
       "1000002   N8  1000002  intersection       NaN  IS_N1N8  23.691325  90.441086   \n",
       "\n",
       "         length  \n",
       "1000002    20.0  \n",
       "1000002    20.0  "
      ]
     },
     "execution_count": 113,
     "metadata": {},
     "output_type": "execute_result"
    }
   ],
   "source": [
    "#Checking a single intersection and ensuring the right format (duplicated)\n",
    "final.loc[1000002]"
   ]
  },
  {
   "cell_type": "markdown",
   "metadata": {},
   "source": [
    "#### Save final df to csv"
   ]
  },
  {
   "cell_type": "code",
   "execution_count": 114,
   "metadata": {},
   "outputs": [],
   "source": [
    "#Save to csv\n",
    "final.to_csv('../data/infrastructure.csv', index=False)"
   ]
  }
 ],
 "metadata": {
  "kernelspec": {
   "display_name": "Python 3 (ipykernel)",
   "language": "python",
   "name": "python3"
  },
  "language_info": {
   "codemirror_mode": {
    "name": "ipython",
    "version": 3
   },
   "file_extension": ".py",
   "mimetype": "text/x-python",
   "name": "python",
   "nbconvert_exporter": "python",
   "pygments_lexer": "ipython3",
   "version": "3.9.13"
  },
  "vscode": {
   "interpreter": {
    "hash": "cc0f8570546888f8ce8bc6d01ace0f5b2aad11864bda16830580d8b55f2ba491"
   }
  }
 },
 "nbformat": 4,
 "nbformat_minor": 2
}
